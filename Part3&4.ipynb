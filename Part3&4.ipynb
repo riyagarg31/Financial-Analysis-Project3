{
 "cells": [
  {
   "cell_type": "code",
   "execution_count": 1,
   "id": "supposed-middle",
   "metadata": {},
   "outputs": [],
   "source": [
    "import pandas as pd\n",
    "import numpy as np\n",
    "import matplotlib.pyplot as plt\n",
    "import seaborn as sns\n",
    "from copy import copy\n",
    "from scipy import stats\n",
    "import plotly.express as px\n",
    "import plotly.figure_factory as ff\n",
    "import plotly.graph_objects as go"
   ]
  },
  {
   "cell_type": "code",
   "execution_count": 2,
   "id": "failing-setup",
   "metadata": {},
   "outputs": [],
   "source": [
    "stocks_df=pd.read_csv(\"stock.csv\")"
   ]
  },
  {
   "cell_type": "code",
   "execution_count": 3,
   "id": "integral-genetics",
   "metadata": {},
   "outputs": [],
   "source": [
    "stocks_df.sort_values(by=\"Date\",inplace=True)"
   ]
  },
  {
   "cell_type": "code",
   "execution_count": 4,
   "id": "understanding-investment",
   "metadata": {},
   "outputs": [
    {
     "data": {
      "text/html": [
       "<div>\n",
       "<style scoped>\n",
       "    .dataframe tbody tr th:only-of-type {\n",
       "        vertical-align: middle;\n",
       "    }\n",
       "\n",
       "    .dataframe tbody tr th {\n",
       "        vertical-align: top;\n",
       "    }\n",
       "\n",
       "    .dataframe thead th {\n",
       "        text-align: right;\n",
       "    }\n",
       "</style>\n",
       "<table border=\"1\" class=\"dataframe\">\n",
       "  <thead>\n",
       "    <tr style=\"text-align: right;\">\n",
       "      <th></th>\n",
       "      <th>Date</th>\n",
       "      <th>AAPL</th>\n",
       "      <th>BA</th>\n",
       "      <th>T</th>\n",
       "      <th>MGM</th>\n",
       "      <th>AMZN</th>\n",
       "      <th>IBM</th>\n",
       "      <th>TSLA</th>\n",
       "      <th>GOOG</th>\n",
       "      <th>sp500</th>\n",
       "    </tr>\n",
       "  </thead>\n",
       "  <tbody>\n",
       "    <tr>\n",
       "      <th>0</th>\n",
       "      <td>2012-01-12</td>\n",
       "      <td>60.198570</td>\n",
       "      <td>75.510002</td>\n",
       "      <td>30.120001</td>\n",
       "      <td>12.130000</td>\n",
       "      <td>175.929993</td>\n",
       "      <td>180.550003</td>\n",
       "      <td>28.250000</td>\n",
       "      <td>313.644379</td>\n",
       "      <td>1295.500000</td>\n",
       "    </tr>\n",
       "    <tr>\n",
       "      <th>1</th>\n",
       "      <td>2012-01-13</td>\n",
       "      <td>59.972858</td>\n",
       "      <td>74.599998</td>\n",
       "      <td>30.070000</td>\n",
       "      <td>12.350000</td>\n",
       "      <td>178.419998</td>\n",
       "      <td>179.160004</td>\n",
       "      <td>22.790001</td>\n",
       "      <td>311.328064</td>\n",
       "      <td>1289.089966</td>\n",
       "    </tr>\n",
       "    <tr>\n",
       "      <th>2</th>\n",
       "      <td>2012-01-17</td>\n",
       "      <td>60.671429</td>\n",
       "      <td>75.239998</td>\n",
       "      <td>30.250000</td>\n",
       "      <td>12.250000</td>\n",
       "      <td>181.660004</td>\n",
       "      <td>180.000000</td>\n",
       "      <td>26.600000</td>\n",
       "      <td>313.116364</td>\n",
       "      <td>1293.670044</td>\n",
       "    </tr>\n",
       "    <tr>\n",
       "      <th>3</th>\n",
       "      <td>2012-01-18</td>\n",
       "      <td>61.301430</td>\n",
       "      <td>75.059998</td>\n",
       "      <td>30.330000</td>\n",
       "      <td>12.730000</td>\n",
       "      <td>189.440002</td>\n",
       "      <td>181.070007</td>\n",
       "      <td>26.809999</td>\n",
       "      <td>315.273285</td>\n",
       "      <td>1308.040039</td>\n",
       "    </tr>\n",
       "    <tr>\n",
       "      <th>4</th>\n",
       "      <td>2012-01-19</td>\n",
       "      <td>61.107143</td>\n",
       "      <td>75.559998</td>\n",
       "      <td>30.420000</td>\n",
       "      <td>12.800000</td>\n",
       "      <td>194.449997</td>\n",
       "      <td>180.520004</td>\n",
       "      <td>26.760000</td>\n",
       "      <td>318.590851</td>\n",
       "      <td>1314.500000</td>\n",
       "    </tr>\n",
       "    <tr>\n",
       "      <th>...</th>\n",
       "      <td>...</td>\n",
       "      <td>...</td>\n",
       "      <td>...</td>\n",
       "      <td>...</td>\n",
       "      <td>...</td>\n",
       "      <td>...</td>\n",
       "      <td>...</td>\n",
       "      <td>...</td>\n",
       "      <td>...</td>\n",
       "      <td>...</td>\n",
       "    </tr>\n",
       "    <tr>\n",
       "      <th>2154</th>\n",
       "      <td>2020-08-05</td>\n",
       "      <td>440.250000</td>\n",
       "      <td>174.279999</td>\n",
       "      <td>29.850000</td>\n",
       "      <td>16.719999</td>\n",
       "      <td>3205.030029</td>\n",
       "      <td>125.449997</td>\n",
       "      <td>1485.020020</td>\n",
       "      <td>1473.609985</td>\n",
       "      <td>3327.770020</td>\n",
       "    </tr>\n",
       "    <tr>\n",
       "      <th>2155</th>\n",
       "      <td>2020-08-06</td>\n",
       "      <td>455.609985</td>\n",
       "      <td>172.199997</td>\n",
       "      <td>29.840000</td>\n",
       "      <td>18.459999</td>\n",
       "      <td>3225.000000</td>\n",
       "      <td>126.120003</td>\n",
       "      <td>1489.579956</td>\n",
       "      <td>1500.099976</td>\n",
       "      <td>3349.159912</td>\n",
       "    </tr>\n",
       "    <tr>\n",
       "      <th>2156</th>\n",
       "      <td>2020-08-07</td>\n",
       "      <td>444.450012</td>\n",
       "      <td>170.020004</td>\n",
       "      <td>30.020000</td>\n",
       "      <td>19.030001</td>\n",
       "      <td>3167.459961</td>\n",
       "      <td>124.959999</td>\n",
       "      <td>1452.709961</td>\n",
       "      <td>1494.489990</td>\n",
       "      <td>3351.280029</td>\n",
       "    </tr>\n",
       "    <tr>\n",
       "      <th>2157</th>\n",
       "      <td>2020-08-10</td>\n",
       "      <td>450.910004</td>\n",
       "      <td>179.410004</td>\n",
       "      <td>30.200001</td>\n",
       "      <td>21.650000</td>\n",
       "      <td>3148.159912</td>\n",
       "      <td>127.110001</td>\n",
       "      <td>1418.569946</td>\n",
       "      <td>1496.099976</td>\n",
       "      <td>3360.469971</td>\n",
       "    </tr>\n",
       "    <tr>\n",
       "      <th>2158</th>\n",
       "      <td>2020-08-11</td>\n",
       "      <td>437.500000</td>\n",
       "      <td>180.130005</td>\n",
       "      <td>30.200001</td>\n",
       "      <td>21.500000</td>\n",
       "      <td>3080.669922</td>\n",
       "      <td>126.750000</td>\n",
       "      <td>1374.390015</td>\n",
       "      <td>1480.319946</td>\n",
       "      <td>3333.689941</td>\n",
       "    </tr>\n",
       "  </tbody>\n",
       "</table>\n",
       "<p>2159 rows × 10 columns</p>\n",
       "</div>"
      ],
      "text/plain": [
       "            Date        AAPL          BA          T        MGM         AMZN  \\\n",
       "0     2012-01-12   60.198570   75.510002  30.120001  12.130000   175.929993   \n",
       "1     2012-01-13   59.972858   74.599998  30.070000  12.350000   178.419998   \n",
       "2     2012-01-17   60.671429   75.239998  30.250000  12.250000   181.660004   \n",
       "3     2012-01-18   61.301430   75.059998  30.330000  12.730000   189.440002   \n",
       "4     2012-01-19   61.107143   75.559998  30.420000  12.800000   194.449997   \n",
       "...          ...         ...         ...        ...        ...          ...   \n",
       "2154  2020-08-05  440.250000  174.279999  29.850000  16.719999  3205.030029   \n",
       "2155  2020-08-06  455.609985  172.199997  29.840000  18.459999  3225.000000   \n",
       "2156  2020-08-07  444.450012  170.020004  30.020000  19.030001  3167.459961   \n",
       "2157  2020-08-10  450.910004  179.410004  30.200001  21.650000  3148.159912   \n",
       "2158  2020-08-11  437.500000  180.130005  30.200001  21.500000  3080.669922   \n",
       "\n",
       "             IBM         TSLA         GOOG        sp500  \n",
       "0     180.550003    28.250000   313.644379  1295.500000  \n",
       "1     179.160004    22.790001   311.328064  1289.089966  \n",
       "2     180.000000    26.600000   313.116364  1293.670044  \n",
       "3     181.070007    26.809999   315.273285  1308.040039  \n",
       "4     180.520004    26.760000   318.590851  1314.500000  \n",
       "...          ...          ...          ...          ...  \n",
       "2154  125.449997  1485.020020  1473.609985  3327.770020  \n",
       "2155  126.120003  1489.579956  1500.099976  3349.159912  \n",
       "2156  124.959999  1452.709961  1494.489990  3351.280029  \n",
       "2157  127.110001  1418.569946  1496.099976  3360.469971  \n",
       "2158  126.750000  1374.390015  1480.319946  3333.689941  \n",
       "\n",
       "[2159 rows x 10 columns]"
      ]
     },
     "execution_count": 4,
     "metadata": {},
     "output_type": "execute_result"
    }
   ],
   "source": [
    "stocks_df"
   ]
  },
  {
   "cell_type": "code",
   "execution_count": 9,
   "id": "sacred-comment",
   "metadata": {},
   "outputs": [],
   "source": [
    "# function to calculate daily return\n",
    "def daily_return(df):\n",
    "    daily_return_df=df.copy()\n",
    "    for i in df.columns[1:]:\n",
    "        for j in range(1,len(df)):\n",
    "            daily_return_df[i][j]=((df[i][j]-df[i][j-1])/df[i][j-1])*100\n",
    "            daily_return_df[i][0]=0\n",
    "    return daily_return_df"
   ]
  },
  {
   "cell_type": "code",
   "execution_count": 10,
   "id": "opposite-lewis",
   "metadata": {},
   "outputs": [],
   "source": [
    "# get the daily returns\n",
    "stocks_daily_return=daily_return(stocks_df)"
   ]
  },
  {
   "cell_type": "code",
   "execution_count": 11,
   "id": "peripheral-integral",
   "metadata": {},
   "outputs": [
    {
     "data": {
      "text/html": [
       "<div>\n",
       "<style scoped>\n",
       "    .dataframe tbody tr th:only-of-type {\n",
       "        vertical-align: middle;\n",
       "    }\n",
       "\n",
       "    .dataframe tbody tr th {\n",
       "        vertical-align: top;\n",
       "    }\n",
       "\n",
       "    .dataframe thead th {\n",
       "        text-align: right;\n",
       "    }\n",
       "</style>\n",
       "<table border=\"1\" class=\"dataframe\">\n",
       "  <thead>\n",
       "    <tr style=\"text-align: right;\">\n",
       "      <th></th>\n",
       "      <th>Date</th>\n",
       "      <th>AAPL</th>\n",
       "      <th>BA</th>\n",
       "      <th>T</th>\n",
       "      <th>MGM</th>\n",
       "      <th>AMZN</th>\n",
       "      <th>IBM</th>\n",
       "      <th>TSLA</th>\n",
       "      <th>GOOG</th>\n",
       "      <th>sp500</th>\n",
       "    </tr>\n",
       "  </thead>\n",
       "  <tbody>\n",
       "    <tr>\n",
       "      <th>0</th>\n",
       "      <td>2012-01-12</td>\n",
       "      <td>0.000000</td>\n",
       "      <td>0.000000</td>\n",
       "      <td>0.000000</td>\n",
       "      <td>0.000000</td>\n",
       "      <td>0.000000</td>\n",
       "      <td>0.000000</td>\n",
       "      <td>0.000000</td>\n",
       "      <td>0.000000</td>\n",
       "      <td>0.000000</td>\n",
       "    </tr>\n",
       "    <tr>\n",
       "      <th>1</th>\n",
       "      <td>2012-01-13</td>\n",
       "      <td>-0.374946</td>\n",
       "      <td>-1.205144</td>\n",
       "      <td>-0.166006</td>\n",
       "      <td>1.813685</td>\n",
       "      <td>1.415339</td>\n",
       "      <td>-0.769869</td>\n",
       "      <td>-19.327430</td>\n",
       "      <td>-0.738516</td>\n",
       "      <td>-0.494792</td>\n",
       "    </tr>\n",
       "    <tr>\n",
       "      <th>2</th>\n",
       "      <td>2012-01-17</td>\n",
       "      <td>1.164812</td>\n",
       "      <td>0.857909</td>\n",
       "      <td>0.598603</td>\n",
       "      <td>-0.809717</td>\n",
       "      <td>1.815943</td>\n",
       "      <td>0.468852</td>\n",
       "      <td>16.717854</td>\n",
       "      <td>0.574410</td>\n",
       "      <td>0.355295</td>\n",
       "    </tr>\n",
       "    <tr>\n",
       "      <th>3</th>\n",
       "      <td>2012-01-18</td>\n",
       "      <td>1.038382</td>\n",
       "      <td>-0.239234</td>\n",
       "      <td>0.264463</td>\n",
       "      <td>3.918367</td>\n",
       "      <td>4.282725</td>\n",
       "      <td>0.594448</td>\n",
       "      <td>0.789470</td>\n",
       "      <td>0.688856</td>\n",
       "      <td>1.110793</td>\n",
       "    </tr>\n",
       "    <tr>\n",
       "      <th>4</th>\n",
       "      <td>2012-01-19</td>\n",
       "      <td>-0.316937</td>\n",
       "      <td>0.666134</td>\n",
       "      <td>0.296736</td>\n",
       "      <td>0.549882</td>\n",
       "      <td>2.644634</td>\n",
       "      <td>-0.303752</td>\n",
       "      <td>-0.186494</td>\n",
       "      <td>1.052283</td>\n",
       "      <td>0.493866</td>\n",
       "    </tr>\n",
       "    <tr>\n",
       "      <th>...</th>\n",
       "      <td>...</td>\n",
       "      <td>...</td>\n",
       "      <td>...</td>\n",
       "      <td>...</td>\n",
       "      <td>...</td>\n",
       "      <td>...</td>\n",
       "      <td>...</td>\n",
       "      <td>...</td>\n",
       "      <td>...</td>\n",
       "      <td>...</td>\n",
       "    </tr>\n",
       "    <tr>\n",
       "      <th>2154</th>\n",
       "      <td>2020-08-05</td>\n",
       "      <td>0.362467</td>\n",
       "      <td>5.579446</td>\n",
       "      <td>-0.533156</td>\n",
       "      <td>0.000000</td>\n",
       "      <td>2.109065</td>\n",
       "      <td>-0.309917</td>\n",
       "      <td>-0.133153</td>\n",
       "      <td>0.589774</td>\n",
       "      <td>0.642974</td>\n",
       "    </tr>\n",
       "    <tr>\n",
       "      <th>2155</th>\n",
       "      <td>2020-08-06</td>\n",
       "      <td>3.488923</td>\n",
       "      <td>-1.193483</td>\n",
       "      <td>-0.033501</td>\n",
       "      <td>10.406699</td>\n",
       "      <td>0.623082</td>\n",
       "      <td>0.534082</td>\n",
       "      <td>0.307062</td>\n",
       "      <td>1.797626</td>\n",
       "      <td>0.642770</td>\n",
       "    </tr>\n",
       "    <tr>\n",
       "      <th>2156</th>\n",
       "      <td>2020-08-07</td>\n",
       "      <td>-2.449458</td>\n",
       "      <td>-1.265966</td>\n",
       "      <td>0.603217</td>\n",
       "      <td>3.087768</td>\n",
       "      <td>-1.784187</td>\n",
       "      <td>-0.919762</td>\n",
       "      <td>-2.475194</td>\n",
       "      <td>-0.373974</td>\n",
       "      <td>0.063303</td>\n",
       "    </tr>\n",
       "    <tr>\n",
       "      <th>2157</th>\n",
       "      <td>2020-08-10</td>\n",
       "      <td>1.453480</td>\n",
       "      <td>5.522880</td>\n",
       "      <td>0.599604</td>\n",
       "      <td>13.767729</td>\n",
       "      <td>-0.609323</td>\n",
       "      <td>1.720552</td>\n",
       "      <td>-2.350092</td>\n",
       "      <td>0.107728</td>\n",
       "      <td>0.274222</td>\n",
       "    </tr>\n",
       "    <tr>\n",
       "      <th>2158</th>\n",
       "      <td>2020-08-11</td>\n",
       "      <td>-2.973987</td>\n",
       "      <td>0.401316</td>\n",
       "      <td>0.000000</td>\n",
       "      <td>-0.692841</td>\n",
       "      <td>-2.143792</td>\n",
       "      <td>-0.283220</td>\n",
       "      <td>-3.114399</td>\n",
       "      <td>-1.054744</td>\n",
       "      <td>-0.796913</td>\n",
       "    </tr>\n",
       "  </tbody>\n",
       "</table>\n",
       "<p>2159 rows × 10 columns</p>\n",
       "</div>"
      ],
      "text/plain": [
       "            Date      AAPL        BA         T        MGM      AMZN       IBM  \\\n",
       "0     2012-01-12  0.000000  0.000000  0.000000   0.000000  0.000000  0.000000   \n",
       "1     2012-01-13 -0.374946 -1.205144 -0.166006   1.813685  1.415339 -0.769869   \n",
       "2     2012-01-17  1.164812  0.857909  0.598603  -0.809717  1.815943  0.468852   \n",
       "3     2012-01-18  1.038382 -0.239234  0.264463   3.918367  4.282725  0.594448   \n",
       "4     2012-01-19 -0.316937  0.666134  0.296736   0.549882  2.644634 -0.303752   \n",
       "...          ...       ...       ...       ...        ...       ...       ...   \n",
       "2154  2020-08-05  0.362467  5.579446 -0.533156   0.000000  2.109065 -0.309917   \n",
       "2155  2020-08-06  3.488923 -1.193483 -0.033501  10.406699  0.623082  0.534082   \n",
       "2156  2020-08-07 -2.449458 -1.265966  0.603217   3.087768 -1.784187 -0.919762   \n",
       "2157  2020-08-10  1.453480  5.522880  0.599604  13.767729 -0.609323  1.720552   \n",
       "2158  2020-08-11 -2.973987  0.401316  0.000000  -0.692841 -2.143792 -0.283220   \n",
       "\n",
       "           TSLA      GOOG     sp500  \n",
       "0      0.000000  0.000000  0.000000  \n",
       "1    -19.327430 -0.738516 -0.494792  \n",
       "2     16.717854  0.574410  0.355295  \n",
       "3      0.789470  0.688856  1.110793  \n",
       "4     -0.186494  1.052283  0.493866  \n",
       "...         ...       ...       ...  \n",
       "2154  -0.133153  0.589774  0.642974  \n",
       "2155   0.307062  1.797626  0.642770  \n",
       "2156  -2.475194 -0.373974  0.063303  \n",
       "2157  -2.350092  0.107728  0.274222  \n",
       "2158  -3.114399 -1.054744 -0.796913  \n",
       "\n",
       "[2159 rows x 10 columns]"
      ]
     },
     "execution_count": 11,
     "metadata": {},
     "output_type": "execute_result"
    }
   ],
   "source": [
    "stocks_daily_return"
   ]
  },
  {
   "cell_type": "code",
   "execution_count": 12,
   "id": "civil-sound",
   "metadata": {},
   "outputs": [
    {
     "data": {
      "text/plain": [
       "AAPL     0.107695\n",
       "BA       0.065907\n",
       "T        0.008159\n",
       "MGM      0.064662\n",
       "AMZN     0.151122\n",
       "IBM     -0.006091\n",
       "TSLA     0.238398\n",
       "GOOG     0.084392\n",
       "sp500    0.049316\n",
       "dtype: float64"
      ]
     },
     "execution_count": 12,
     "metadata": {},
     "output_type": "execute_result"
    }
   ],
   "source": [
    "stocks_daily_return.mean()"
   ]
  },
  {
   "cell_type": "markdown",
   "id": "binary-moderator",
   "metadata": {},
   "source": [
    "### Calculate BETA for a single stock"
   ]
  },
  {
   "cell_type": "code",
   "execution_count": 13,
   "id": "useful-train",
   "metadata": {},
   "outputs": [
    {
     "data": {
      "text/plain": [
       "0       0.000000\n",
       "1      -0.374946\n",
       "2       1.164812\n",
       "3       1.038382\n",
       "4      -0.316937\n",
       "          ...   \n",
       "2154    0.362467\n",
       "2155    3.488923\n",
       "2156   -2.449458\n",
       "2157    1.453480\n",
       "2158   -2.973987\n",
       "Name: AAPL, Length: 2159, dtype: float64"
      ]
     },
     "execution_count": 13,
     "metadata": {},
     "output_type": "execute_result"
    }
   ],
   "source": [
    "# select any stock, let's say Apple\n",
    "stocks_daily_return[\"AAPL\"]"
   ]
  },
  {
   "cell_type": "code",
   "execution_count": 16,
   "id": "descending-romantic",
   "metadata": {},
   "outputs": [
    {
     "data": {
      "text/plain": [
       "0       0.000000\n",
       "1      -0.494792\n",
       "2       0.355295\n",
       "3       1.110793\n",
       "4       0.493866\n",
       "          ...   \n",
       "2154    0.642974\n",
       "2155    0.642770\n",
       "2156    0.063303\n",
       "2157    0.274222\n",
       "2158   -0.796913\n",
       "Name: sp500, Length: 2159, dtype: float64"
      ]
     },
     "execution_count": 16,
     "metadata": {},
     "output_type": "execute_result"
    }
   ],
   "source": [
    "# select the S&P500(Market)\n",
    "stocks_daily_return[\"sp500\"]"
   ]
  },
  {
   "cell_type": "code",
   "execution_count": 17,
   "id": "critical-international",
   "metadata": {},
   "outputs": [
    {
     "data": {
      "text/plain": [
       "<AxesSubplot:xlabel='sp500', ylabel='AAPL'>"
      ]
     },
     "execution_count": 17,
     "metadata": {},
     "output_type": "execute_result"
    },
    {
     "data": {
      "image/png": "[encoded data removed]",
      "text/plain": [
       "<Figure size 432x288 with 1 Axes>"
      ]
     },
     "metadata": {
      "needs_background": "light"
     },
     "output_type": "display_data"
    }
   ],
   "source": [
    "# plot the scatter plot between the selected stock & S&P500(Market)\n",
    "stocks_daily_return.plot(kind=\"scatter\",x=\"sp500\",y=\"AAPL\")"
   ]
  },
  {
   "cell_type": "code",
   "execution_count": 18,
   "id": "artificial-source",
   "metadata": {},
   "outputs": [],
   "source": [
    "# fit a polynomial between the selected stock & the S&P500 (poly with order=1 is a straight line)\n",
    "beta,alpha=np.polyfit(stocks_daily_return[\"sp500\"],stocks_daily_return[\"AAPL\"],1)"
   ]
  },
  {
   "cell_type": "code",
   "execution_count": 19,
   "id": "acting-theorem",
   "metadata": {},
   "outputs": [
    {
     "name": "stdout",
     "output_type": "stream",
     "text": [
      "Beta for AAPL stock is 1.1128924148678099 and alpha is 0.05281208469440287 \n"
     ]
    }
   ],
   "source": [
    "print(\"Beta for {} stock is {} and alpha is {} \".format(\"AAPL\",beta,alpha))"
   ]
  },
  {
   "cell_type": "code",
   "execution_count": 22,
   "id": "ambient-prediction",
   "metadata": {},
   "outputs": [
    {
     "data": {
      "text/plain": [
       "[<matplotlib.lines.Line2D at 0x1f6db248880>]"
      ]
     },
     "execution_count": 22,
     "metadata": {},
     "output_type": "execute_result"
    },
    {
     "data": {
      "image/png": "[encoded data removed]",
      "text/plain": [
       "<Figure size 432x288 with 1 Axes>"
      ]
     },
     "metadata": {
      "needs_background": "light"
     },
     "output_type": "display_data"
    }
   ],
   "source": [
    "stocks_daily_return.plot(kind=\"scatter\",x=\"sp500\",y=\"AAPL\")\n",
    "plt.plot(stocks_daily_return[\"sp500\"],beta*stocks_daily_return[\"sp500\"]+alpha,\"-\",color=\"r\")"
   ]
  }
 ],
 "metadata": {
  "kernelspec": {
   "display_name": "Python 3",
   "language": "python",
   "name": "python3"
  },
  "language_info": {
   "codemirror_mode": {
    "name": "ipython",
    "version": 3
   },
   "file_extension": ".py",
   "mimetype": "text/x-python",
   "name": "python",
   "nbconvert_exporter": "python",
   "pygments_lexer": "ipython3",
   "version": "3.8.5"
  }
 },
 "nbformat": 4,
 "nbformat_minor": 5
}
